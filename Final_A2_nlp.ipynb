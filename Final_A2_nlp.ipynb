{
  "nbformat": 4,
  "nbformat_minor": 0,
  "metadata": {
    "colab": {
      "name": "Final A2_nlp.ipynb",
      "provenance": [],
      "collapsed_sections": [],
      "machine_shape": "hm"
    },
    "kernelspec": {
      "name": "python3",
      "display_name": "Python 3"
    },
    "accelerator": "GPU"
  },
  "cells": [
    {
      "cell_type": "code",
      "metadata": {
        "id": "nswZkbrmGm9b",
        "colab_type": "code",
        "outputId": "36d0b2ae-e50f-4758-9b0e-db519f42acfe",
        "colab": {
          "base_uri": "https://localhost:8080/",
          "height": 180
        }
      },
      "source": [
        "import pandas as pd\n",
        "import numpy as np\n",
        "from sklearn.feature_extraction.text import CountVectorizer\n",
        "from sklearn.model_selection import train_test_split\n",
        "import nltk\n",
        "from nltk.tokenize import word_tokenize\n",
        "nltk.download('punkt')\n",
        "nltk.download('stopwords')\n",
        "nltk.download('wordnet')\n",
        "import random\n",
        "from nltk.corpus import stopwords\n",
        "from nltk.stem import WordNetLemmatizer, PorterStemmer, LancasterStemmer\n",
        "from keras.utils import to_categorical\n",
        "from sklearn.feature_extraction.text import CountVectorizer , TfidfVectorizer\n",
        "from keras import backend as K\n",
        "from keras.models import Sequential\n",
        "from keras.layers import Conv1D, MaxPooling1D, Dense, Dropout, Flatten,Embedding\n",
        "from keras.layers import Activation, Conv1D, GlobalMaxPooling1D\n",
        "from keras import optimizers\n",
        "from keras import layers\n",
        "import time"
      ],
      "execution_count": 1,
      "outputs": [
        {
          "output_type": "stream",
          "text": [
            "[nltk_data] Downloading package punkt to /root/nltk_data...\n",
            "[nltk_data]   Unzipping tokenizers/punkt.zip.\n",
            "[nltk_data] Downloading package stopwords to /root/nltk_data...\n",
            "[nltk_data]   Unzipping corpora/stopwords.zip.\n",
            "[nltk_data] Downloading package wordnet to /root/nltk_data...\n",
            "[nltk_data]   Unzipping corpora/wordnet.zip.\n"
          ],
          "name": "stdout"
        },
        {
          "output_type": "stream",
          "text": [
            "Using TensorFlow backend.\n"
          ],
          "name": "stderr"
        },
        {
          "output_type": "display_data",
          "data": {
            "text/html": [
              "<p style=\"color: red;\">\n",
              "The default version of TensorFlow in Colab will soon switch to TensorFlow 2.x.<br>\n",
              "We recommend you <a href=\"https://www.tensorflow.org/guide/migrate\" target=\"_blank\">upgrade</a> now \n",
              "or ensure your notebook will continue to use TensorFlow 1.x via the <code>%tensorflow_version 1.x</code> magic:\n",
              "<a href=\"https://colab.research.google.com/notebooks/tensorflow_version.ipynb\" target=\"_blank\">more info</a>.</p>\n"
            ],
            "text/plain": [
              "<IPython.core.display.HTML object>"
            ]
          },
          "metadata": {
            "tags": []
          }
        }
      ]
    },
    {
      "cell_type": "code",
      "metadata": {
        "id": "2vpm1UvoGd_X",
        "colab_type": "code",
        "outputId": "8ec13bf3-bb6b-412a-e660-81b01ebe2565",
        "colab": {
          "base_uri": "https://localhost:8080/",
          "height": 212
        }
      },
      "source": [
        "URL_Train= \"https://raw.githubusercontent.com/cacoderquan/Sentiment-Analysis-on-the-Rotten-Tomatoes-movie-review-dataset/master/train.tsv\"\n",
        "\n",
        "#load data\n",
        "train=pd.read_csv(URL_Train,sep='\\t')\n",
        "print(len(train))\n",
        "train.head()"
      ],
      "execution_count": 2,
      "outputs": [
        {
          "output_type": "stream",
          "text": [
            "156060\n"
          ],
          "name": "stdout"
        },
        {
          "output_type": "execute_result",
          "data": {
            "text/html": [
              "<div>\n",
              "<style scoped>\n",
              "    .dataframe tbody tr th:only-of-type {\n",
              "        vertical-align: middle;\n",
              "    }\n",
              "\n",
              "    .dataframe tbody tr th {\n",
              "        vertical-align: top;\n",
              "    }\n",
              "\n",
              "    .dataframe thead th {\n",
              "        text-align: right;\n",
              "    }\n",
              "</style>\n",
              "<table border=\"1\" class=\"dataframe\">\n",
              "  <thead>\n",
              "    <tr style=\"text-align: right;\">\n",
              "      <th></th>\n",
              "      <th>PhraseId</th>\n",
              "      <th>SentenceId</th>\n",
              "      <th>Phrase</th>\n",
              "      <th>Sentiment</th>\n",
              "    </tr>\n",
              "  </thead>\n",
              "  <tbody>\n",
              "    <tr>\n",
              "      <th>0</th>\n",
              "      <td>1</td>\n",
              "      <td>1</td>\n",
              "      <td>A series of escapades demonstrating the adage ...</td>\n",
              "      <td>1</td>\n",
              "    </tr>\n",
              "    <tr>\n",
              "      <th>1</th>\n",
              "      <td>2</td>\n",
              "      <td>1</td>\n",
              "      <td>A series of escapades demonstrating the adage ...</td>\n",
              "      <td>2</td>\n",
              "    </tr>\n",
              "    <tr>\n",
              "      <th>2</th>\n",
              "      <td>3</td>\n",
              "      <td>1</td>\n",
              "      <td>A series</td>\n",
              "      <td>2</td>\n",
              "    </tr>\n",
              "    <tr>\n",
              "      <th>3</th>\n",
              "      <td>4</td>\n",
              "      <td>1</td>\n",
              "      <td>A</td>\n",
              "      <td>2</td>\n",
              "    </tr>\n",
              "    <tr>\n",
              "      <th>4</th>\n",
              "      <td>5</td>\n",
              "      <td>1</td>\n",
              "      <td>series</td>\n",
              "      <td>2</td>\n",
              "    </tr>\n",
              "  </tbody>\n",
              "</table>\n",
              "</div>"
            ],
            "text/plain": [
              "   PhraseId  ...  Sentiment\n",
              "0         1  ...          1\n",
              "1         2  ...          2\n",
              "2         3  ...          2\n",
              "3         4  ...          2\n",
              "4         5  ...          2\n",
              "\n",
              "[5 rows x 4 columns]"
            ]
          },
          "metadata": {
            "tags": []
          },
          "execution_count": 2
        }
      ]
    },
    {
      "cell_type": "code",
      "metadata": {
        "id": "omK1ZwGUzm7y",
        "colab_type": "code",
        "outputId": "9e48b260-f0ba-4d5f-f733-60225350492f",
        "colab": {
          "base_uri": "https://localhost:8080/",
          "height": 279
        }
      },
      "source": [
        "phrase = train['Phrase']\n",
        "sentiment = train['Sentiment']\n",
        "sentiment.value_counts().plot(kind='bar')"
      ],
      "execution_count": 3,
      "outputs": [
        {
          "output_type": "execute_result",
          "data": {
            "text/plain": [
              "<matplotlib.axes._subplots.AxesSubplot at 0x7f16df378390>"
            ]
          },
          "metadata": {
            "tags": []
          },
          "execution_count": 3
        },
        {
          "output_type": "display_data",
          "data": {
            "image/png": "[encoded data removed]",
            "text/plain": [
              "<Figure size 432x288 with 1 Axes>"
            ]
          },
          "metadata": {
            "tags": []
          }
        }
      ]
    },
    {
      "cell_type": "code",
      "metadata": {
        "id": "VlqfVfa7Gv0_",
        "colab_type": "code",
        "outputId": "1978e517-b4f0-46ac-82e2-8078de612873",
        "colab": {
          "base_uri": "https://localhost:8080/",
          "height": 134
        }
      },
      "source": [
        "fullSentences = []\n",
        "curSentence = 0\n",
        "for i in range(train.shape[0]):\n",
        "  if train['SentenceId'][i]> curSentence:\n",
        "    fullSentences.append((train['Phrase'][i], train['Sentiment'][i]))\n",
        "    curSentence = curSentence +1\n",
        "\n",
        "# put data into a df\n",
        "fullSentDf = pd.DataFrame(fullSentences,\n",
        "                                columns=['Phrase', 'Sentiment'])\n",
        "print(fullSentDf['Sentiment'].value_counts())\n",
        "print(fullSentDf['Phrase'][1])"
      ],
      "execution_count": 4,
      "outputs": [
        {
          "output_type": "stream",
          "text": [
            "3    2325\n",
            "1    2203\n",
            "2    1659\n",
            "4    1282\n",
            "0    1075\n",
            "Name: Sentiment, dtype: int64\n",
            "This quiet , introspective and entertaining independent is worth seeking .\n"
          ],
          "name": "stdout"
        }
      ]
    },
    {
      "cell_type": "code",
      "metadata": {
        "id": "qCcdLYu-jbPr",
        "colab_type": "code",
        "colab": {}
      },
      "source": [
        "from nltk.tokenize import word_tokenize\n",
        "\n",
        "documents = []\n",
        "#convert data into format for the previous labs\n",
        "\n",
        "#use full dataset\n",
        "#for i in range(data.shape[0]):\n",
        "#  tmpWords = word_tokenize(data['Phrase'][i])\n",
        "#  documents.append((tmpWords, data['Sentiment'][i]))\n",
        "\n",
        "# Use only complete sentences\n",
        "for i in range(fullSentDf.shape[0]):\n",
        "  tmpWords = word_tokenize(fullSentDf['Phrase'][i])\n",
        "  documents.append((tmpWords, fullSentDf['Sentiment'][i]))"
      ],
      "execution_count": 0,
      "outputs": []
    },
    {
      "cell_type": "code",
      "metadata": {
        "id": "XVDh_shvG6G4",
        "colab_type": "code",
        "colab": {}
      },
      "source": [
        "porter = PorterStemmer()\n",
        "lancaster=LancasterStemmer()\n",
        "wordnet_lemmatizer = WordNetLemmatizer()\n",
        "StopWords = stopwords.words(\"english\")\n",
        "punctuations=\"?:!.,;'\\\"-()\"\n",
        "#parameters to adjust to see the impact on outcome\n",
        "remove_stopwords = True\n",
        "useStemming = True\n",
        "useLemma = False\n",
        "removePuncs = True\n",
        "# print(StopWords)\n",
        "\n",
        "for l in range(len(documents)): #For each review docu-ment\n",
        "  # print(l)\n",
        "  label = documents[l][1] #Save review label\n",
        "  tmpReview = [] #Placeholder list for new review\n",
        "  # train_new=[]\n",
        "  for w in documents[l][0]: #For each word this is review\n",
        "    newWord = w #Set newWork to be the updated word\n",
        "    if remove_stopwords and (w in StopWords):#if the word is a stopword \n",
        "      continue #skip the word and don’t had it to the normalized review\n",
        "    if removePuncs and (w in punctuations):#if the word is a punc\n",
        "      continue #skip the word and don’t had it to the normalized review\n",
        "    if useStemming: #if useStemming is set to True\n",
        "      #Keep one stemmer commented out\n",
        "      #newWord = porter.stem(newWord) #User porter stemmer\n",
        "      newWord = lancaster.stem(newWord) #Use Lancaster stemmer\n",
        "    if useLemma:\n",
        "      newWord = wordnet_lemmatizer.lemmatize(newWord)\n",
        "    tmpReview.append(newWord) #Add normalized word to the tmp review\n",
        "  documents[l] = (' '.join(tmpReview), label)\n",
        "# print(documents[2]) #Update the reviews list with clean review"
      ],
      "execution_count": 0,
      "outputs": []
    },
    {
      "cell_type": "code",
      "metadata": {
        "id": "vpSUItyNInCu",
        "colab_type": "code",
        "outputId": "257ade67-23a1-4e91-b0a1-a14a83d6a1c2",
        "colab": {
          "base_uri": "https://localhost:8080/",
          "height": 84
        }
      },
      "source": [
        "## Splitting the training and testing data\n",
        "\n",
        "X_train, X_test, y_train, y_test = train_test_split(train['Phrase'], \n",
        "                                                    train['Sentiment'], \n",
        "                                                    test_size=0.3, \n",
        "                                                    random_state=2003)\n",
        "\n",
        "print(X_train.shape)\n",
        "print(X_test.shape)\n",
        "print(y_train.shape)\n",
        "print(y_test.shape)"
      ],
      "execution_count": 8,
      "outputs": [
        {
          "output_type": "stream",
          "text": [
            "(109242,)\n",
            "(46818,)\n",
            "(109242,)\n",
            "(46818,)\n"
          ],
          "name": "stdout"
        }
      ]
    },
    {
      "cell_type": "code",
      "metadata": {
        "id": "8ZBuYahxNxWB",
        "colab_type": "code",
        "colab": {}
      },
      "source": [
        "from keras.preprocessing.text import Tokenizer\n",
        "NB_WORDS = 5000\n",
        "tk = Tokenizer(num_words=NB_WORDS,\n",
        "               filters='!\"#$%&()*+,-./:;<=>?@[\\\\]^_`{|}~\\t\\n',\n",
        "               lower=True,\n",
        "               split=\" \")\n",
        "tk.fit_on_texts(X_train)\n",
        "\n",
        "# TF-IDF vectorizer\n",
        "tfidf_vectorizer = TfidfVectorizer(stop_words=\"english\", \n",
        "                                   ngram_range=(1, 1), \n",
        "                                   max_features = 5000)\n",
        "\n",
        "train_tfid = tfidf_vectorizer.fit_transform(X_train)\n",
        "train_tfid = np.array(train_tfid.toarray())\n",
        "\n",
        "test_tfid = tfidf_vectorizer.fit_transform(X_test)\n",
        "test_tfid = np.array(test_tfid.toarray())\n",
        "\n",
        "X_train_seq = tk.texts_to_sequences(X_train)\n",
        "X_test_seq = tk.texts_to_sequences(X_test)"
      ],
      "execution_count": 0,
      "outputs": []
    },
    {
      "cell_type": "code",
      "metadata": {
        "id": "hbGJWp9TOiaz",
        "colab_type": "code",
        "outputId": "a2977202-724c-4d93-f193-fc2a0ad7c041",
        "colab": {
          "base_uri": "https://localhost:8080/",
          "height": 168
        }
      },
      "source": [
        "seq_lengths = X_train.apply(lambda x: len(x.split(' ')))\n",
        "seq_lengths.describe()"
      ],
      "execution_count": 10,
      "outputs": [
        {
          "output_type": "execute_result",
          "data": {
            "text/plain": [
              "count    109242.000000\n",
              "mean          7.194595\n",
              "std           7.011804\n",
              "min           1.000000\n",
              "25%           2.000000\n",
              "50%           5.000000\n",
              "75%          10.000000\n",
              "max          52.000000\n",
              "Name: Phrase, dtype: float64"
            ]
          },
          "metadata": {
            "tags": []
          },
          "execution_count": 10
        }
      ]
    },
    {
      "cell_type": "code",
      "metadata": {
        "id": "d5wb7ZXfOoxL",
        "colab_type": "code",
        "colab": {}
      },
      "source": [
        "from keras.preprocessing.sequence import pad_sequences\n",
        "MAX_LEN = 51\n",
        "X_train_seq_trunc = pad_sequences(X_train_seq, maxlen=MAX_LEN)\n",
        "X_test_seq_trunc = pad_sequences(X_test_seq, maxlen=MAX_LEN)\n",
        "# X_train_seq_trunc[15]  # Example of padded sequence"
      ],
      "execution_count": 0,
      "outputs": []
    },
    {
      "cell_type": "code",
      "metadata": {
        "id": "7ayXwO61OtW2",
        "colab_type": "code",
        "colab": {}
      },
      "source": [
        "from sklearn.preprocessing import LabelEncoder\n",
        "\n",
        "le = LabelEncoder()\n",
        "y_train_le = le.fit_transform(y_train)\n",
        "y_test_le = le.transform(y_test)\n",
        "y_train_oh = to_categorical(y_train_le)\n",
        "y_test_oh = to_categorical(y_test_le)"
      ],
      "execution_count": 0,
      "outputs": []
    },
    {
      "cell_type": "code",
      "metadata": {
        "id": "XW_WEypqVgrP",
        "colab_type": "code",
        "outputId": "8d6fc0f9-1b70-42ed-ac82-d594fa79dc39",
        "colab": {
          "base_uri": "https://localhost:8080/",
          "height": 84
        }
      },
      "source": [
        "print(y_train.shape)\n",
        "print(y_test.shape)\n",
        "print(y_train_oh.shape)\n",
        "print(y_test_oh.shape)"
      ],
      "execution_count": 13,
      "outputs": [
        {
          "output_type": "stream",
          "text": [
            "(109242,)\n",
            "(46818,)\n",
            "(109242, 5)\n",
            "(46818, 5)\n"
          ],
          "name": "stdout"
        }
      ]
    },
    {
      "cell_type": "code",
      "metadata": {
        "id": "uYjejWJmPkx1",
        "colab_type": "code",
        "outputId": "c57174da-2bb0-4681-d1bf-f6db55dfb0ec",
        "colab": {
          "base_uri": "https://localhost:8080/",
          "height": 34
        }
      },
      "source": [
        "# Splitting the validation data\n",
        "X_train_emb, X_valid_emb, y_train_emb, y_valid_emb = train_test_split(X_train_seq_trunc, \n",
        "                                                                      y_train_oh, \n",
        "                                                                      test_size=0.1, \n",
        "                                                                      random_state=2003)\n",
        "\n",
        "assert X_valid_emb.shape[0] == y_valid_emb.shape[0]\n",
        "assert X_train_emb.shape[0] == y_train_emb.shape[0]\n",
        "\n",
        "print('Shape of validation set:',X_valid_emb.shape)"
      ],
      "execution_count": 14,
      "outputs": [
        {
          "output_type": "stream",
          "text": [
            "Shape of validation set: (10925, 51)\n"
          ],
          "name": "stdout"
        }
      ]
    },
    {
      "cell_type": "code",
      "metadata": {
        "id": "UQNfV1UyccTl",
        "colab_type": "code",
        "colab": {}
      },
      "source": [
        "# Functions used to get the performnce of the model\n",
        "def recall_m(y_true,y_pred):\n",
        "  true_positives = K.sum(K.round(K.clip(y_true*y_pred,0,1)))\n",
        "  possible_positives = K.sum(K.round(K.clip(y_true, 0,1)))\n",
        "  recall = true_positives / (possible_positives + K.epsilon())\n",
        "  return recall\n",
        "\n",
        "def precision_m(y_true, y_pred):\n",
        "  true_positives = K.sum(K.round(K.clip(y_true*y_pred, 0,1)))\n",
        "  predicted_positives = K.sum(K.round(K.clip(y_pred, 0, 1)))\n",
        "  precision = true_positives / (predicted_positives + K.epsilon())\n",
        "  return precision\n",
        "\n",
        "def f1_m(y_true, y_pred):\n",
        "  precision= precision_m(y_true, y_pred)\n",
        "  recall= recall_m(y_true, y_pred)\n",
        "  return 2*((precision*recall)/(precision+recall+K.epsilon()))"
      ],
      "execution_count": 0,
      "outputs": []
    },
    {
      "cell_type": "code",
      "metadata": {
        "id": "RDI4u-7ZP5GF",
        "colab_type": "code",
        "outputId": "3e6884bd-ae1d-4fba-b28a-864d65519ac3",
        "colab": {
          "base_uri": "https://localhost:8080/",
          "height": 541
        }
      },
      "source": [
        "from keras import models\n",
        "from keras import layers\n",
        "from keras import regularizers\n",
        "##### Model ######\n",
        "Model = models.Sequential()\n",
        "Model.add(layers.Embedding(NB_WORDS, 5, input_length=MAX_LEN))\n",
        "Model.add(Conv1D(filters=100, kernel_size=2, activation= 'relu'))\n",
        "Model.add(MaxPooling1D(pool_size=2))\n",
        "Model.add(Conv1D(filters=100, kernel_size=2, activation= 'relu'))\n",
        "Model.add(MaxPooling1D(pool_size=2))\n",
        "Model.add(layers.Flatten())\n",
        "Model.add(layers.Dense(5, activation='softmax'))\n",
        "Model.summary()"
      ],
      "execution_count": 16,
      "outputs": [
        {
          "output_type": "stream",
          "text": [
            "WARNING:tensorflow:From /usr/local/lib/python3.6/dist-packages/keras/backend/tensorflow_backend.py:66: The name tf.get_default_graph is deprecated. Please use tf.compat.v1.get_default_graph instead.\n",
            "\n",
            "WARNING:tensorflow:From /usr/local/lib/python3.6/dist-packages/keras/backend/tensorflow_backend.py:541: The name tf.placeholder is deprecated. Please use tf.compat.v1.placeholder instead.\n",
            "\n",
            "WARNING:tensorflow:From /usr/local/lib/python3.6/dist-packages/keras/backend/tensorflow_backend.py:4432: The name tf.random_uniform is deprecated. Please use tf.random.uniform instead.\n",
            "\n",
            "WARNING:tensorflow:From /usr/local/lib/python3.6/dist-packages/keras/backend/tensorflow_backend.py:4267: The name tf.nn.max_pool is deprecated. Please use tf.nn.max_pool2d instead.\n",
            "\n",
            "Model: \"sequential_1\"\n",
            "_________________________________________________________________\n",
            "Layer (type)                 Output Shape              Param #   \n",
            "=================================================================\n",
            "embedding_1 (Embedding)      (None, 51, 5)             25000     \n",
            "_________________________________________________________________\n",
            "conv1d_1 (Conv1D)            (None, 50, 100)           1100      \n",
            "_________________________________________________________________\n",
            "max_pooling1d_1 (MaxPooling1 (None, 25, 100)           0         \n",
            "_________________________________________________________________\n",
            "conv1d_2 (Conv1D)            (None, 24, 100)           20100     \n",
            "_________________________________________________________________\n",
            "max_pooling1d_2 (MaxPooling1 (None, 12, 100)           0         \n",
            "_________________________________________________________________\n",
            "flatten_1 (Flatten)          (None, 1200)              0         \n",
            "_________________________________________________________________\n",
            "dense_1 (Dense)              (None, 5)                 6005      \n",
            "=================================================================\n",
            "Total params: 52,205\n",
            "Trainable params: 52,205\n",
            "Non-trainable params: 0\n",
            "_________________________________________________________________\n"
          ],
          "name": "stdout"
        }
      ]
    },
    {
      "cell_type": "code",
      "metadata": {
        "id": "6H0-jawJkMdK",
        "colab_type": "code",
        "outputId": "bd271741-1619-4796-849b-e9b26d87b8f0",
        "colab": {
          "base_uri": "https://localhost:8080/",
          "height": 255
        }
      },
      "source": [
        "#Save the trained model\n",
        "\n",
        "!pip install -U -q PyDrive\n",
        "from pydrive.auth import GoogleAuth\n",
        "from pydrive.drive import GoogleDrive \n",
        "from google.colab import auth \n",
        "from oauth2client.client import GoogleCredentials\n",
        "\n",
        "auth.authenticate_user()\n",
        "gauth = GoogleAuth()\n",
        "gauth.credentials = GoogleCredentials.get_application_default()                       \n",
        "drive = GoogleDrive(gauth)\n",
        "\n",
        "Model.save('1093483_SentimentAnalysis.h5')\n",
        "Model_file = drive.CreateFile({'title' : '1093483_SentimentAnalysis.h5'})                       \n",
        "Model_file.SetContentFile('1093483_SentimentAnalysis.h5')                       \n",
        "Model_file.Upload()\n",
        "\n",
        "# download to google drive                       \n",
        "drive.CreateFile({'id': Model_file.get('id')})"
      ],
      "execution_count": 17,
      "outputs": [
        {
          "output_type": "stream",
          "text": [
            "WARNING:tensorflow:From /usr/local/lib/python3.6/dist-packages/keras/backend/tensorflow_backend.py:190: The name tf.get_default_session is deprecated. Please use tf.compat.v1.get_default_session instead.\n",
            "\n",
            "WARNING:tensorflow:From /usr/local/lib/python3.6/dist-packages/keras/backend/tensorflow_backend.py:197: The name tf.ConfigProto is deprecated. Please use tf.compat.v1.ConfigProto instead.\n",
            "\n",
            "WARNING:tensorflow:From /usr/local/lib/python3.6/dist-packages/keras/backend/tensorflow_backend.py:203: The name tf.Session is deprecated. Please use tf.compat.v1.Session instead.\n",
            "\n",
            "WARNING:tensorflow:From /usr/local/lib/python3.6/dist-packages/keras/backend/tensorflow_backend.py:207: The name tf.global_variables is deprecated. Please use tf.compat.v1.global_variables instead.\n",
            "\n",
            "WARNING:tensorflow:From /usr/local/lib/python3.6/dist-packages/keras/backend/tensorflow_backend.py:216: The name tf.is_variable_initialized is deprecated. Please use tf.compat.v1.is_variable_initialized instead.\n",
            "\n",
            "WARNING:tensorflow:From /usr/local/lib/python3.6/dist-packages/keras/backend/tensorflow_backend.py:223: The name tf.variables_initializer is deprecated. Please use tf.compat.v1.variables_initializer instead.\n",
            "\n"
          ],
          "name": "stdout"
        },
        {
          "output_type": "execute_result",
          "data": {
            "text/plain": [
              "GoogleDriveFile({'id': '1J_6Oyu50QGE-AC7svA1aoEm2-7xkRxSR'})"
            ]
          },
          "metadata": {
            "tags": []
          },
          "execution_count": 17
        }
      ]
    },
    {
      "cell_type": "code",
      "metadata": {
        "id": "PR0f6kROQMgr",
        "colab_type": "code",
        "colab": {
          "base_uri": "https://localhost:8080/",
          "height": 1000
        },
        "outputId": "ade3d8fe-937f-42d5-bfa7-863d0b9527f6"
      },
      "source": [
        "# Initializing the parameters\n",
        "lr=1e-4\n",
        "decay=1e-4\n",
        "num_epochs=100\n",
        "adm = optimizers.Adam(lr=lr, decay=decay)\n",
        "\n",
        "# Compile & Fit the model\n",
        "Model.compile(optimizer=adm,\n",
        "              loss='categorical_crossentropy',\n",
        "              metrics=['accuracy',f1_m,precision_m,recall_m])\n",
        "\n",
        "t1=time.time()\n",
        "history_train = Model.fit(X_train_emb,\n",
        "                    y_train_emb,\n",
        "                    epochs=num_epochs,\n",
        "                    batch_size=128,\n",
        "                    validation_data=(X_valid_emb,y_valid_emb))\n",
        "t2=time.time()\n",
        "t3=t2-t1\n",
        "print('Training Time:',np.round(t3,2),'seconds')"
      ],
      "execution_count": 18,
      "outputs": [
        {
          "output_type": "stream",
          "text": [
            "WARNING:tensorflow:From /usr/local/lib/python3.6/dist-packages/keras/optimizers.py:793: The name tf.train.Optimizer is deprecated. Please use tf.compat.v1.train.Optimizer instead.\n",
            "\n",
            "WARNING:tensorflow:From /usr/local/lib/python3.6/dist-packages/keras/backend/tensorflow_backend.py:3576: The name tf.log is deprecated. Please use tf.math.log instead.\n",
            "\n",
            "WARNING:tensorflow:From /tensorflow-1.15.0/python3.6/tensorflow_core/python/ops/math_grad.py:1424: where (from tensorflow.python.ops.array_ops) is deprecated and will be removed in a future version.\n",
            "Instructions for updating:\n",
            "Use tf.where in 2.0, which has the same broadcast rule as np.where\n",
            "WARNING:tensorflow:From /usr/local/lib/python3.6/dist-packages/keras/backend/tensorflow_backend.py:1033: The name tf.assign_add is deprecated. Please use tf.compat.v1.assign_add instead.\n",
            "\n",
            "WARNING:tensorflow:From /usr/local/lib/python3.6/dist-packages/keras/backend/tensorflow_backend.py:1020: The name tf.assign is deprecated. Please use tf.compat.v1.assign instead.\n",
            "\n",
            "Train on 98317 samples, validate on 10925 samples\n",
            "Epoch 1/100\n",
            "98317/98317 [==============================] - 10s 104us/step - loss: 1.2894 - acc: 0.5121 - f1_m: 0.4001 - precision_m: 0.4927 - recall_m: 0.3414 - val_loss: 1.2389 - val_acc: 0.5051 - val_f1_m: 0.4515 - val_precision_m: 0.6354 - val_recall_m: 0.3511\n",
            "Epoch 2/100\n",
            "98317/98317 [==============================] - 3s 35us/step - loss: 1.2104 - acc: 0.5190 - f1_m: 0.4753 - precision_m: 0.6427 - recall_m: 0.3780 - val_loss: 1.2076 - val_acc: 0.5149 - val_f1_m: 0.4706 - val_precision_m: 0.6564 - val_recall_m: 0.3677\n",
            "Epoch 3/100\n",
            "98317/98317 [==============================] - 3s 35us/step - loss: 1.1744 - acc: 0.5300 - f1_m: 0.4876 - precision_m: 0.6769 - recall_m: 0.3820 - val_loss: 1.1691 - val_acc: 0.5305 - val_f1_m: 0.4782 - val_precision_m: 0.6946 - val_recall_m: 0.3658\n",
            "Epoch 4/100\n",
            "98317/98317 [==============================] - 3s 35us/step - loss: 1.1354 - acc: 0.5459 - f1_m: 0.5060 - precision_m: 0.7042 - recall_m: 0.3959 - val_loss: 1.1407 - val_acc: 0.5447 - val_f1_m: 0.4967 - val_precision_m: 0.7010 - val_recall_m: 0.3855\n",
            "Epoch 5/100\n",
            "98317/98317 [==============================] - 3s 35us/step - loss: 1.1102 - acc: 0.5581 - f1_m: 0.5166 - precision_m: 0.7156 - recall_m: 0.4051 - val_loss: 1.1270 - val_acc: 0.5486 - val_f1_m: 0.5099 - val_precision_m: 0.6906 - val_recall_m: 0.4050\n",
            "Epoch 6/100\n",
            "98317/98317 [==============================] - 3s 35us/step - loss: 1.0951 - acc: 0.5658 - f1_m: 0.5227 - precision_m: 0.7174 - recall_m: 0.4121 - val_loss: 1.1164 - val_acc: 0.5540 - val_f1_m: 0.5134 - val_precision_m: 0.6898 - val_recall_m: 0.4098\n",
            "Epoch 7/100\n",
            "98317/98317 [==============================] - 3s 35us/step - loss: 1.0844 - acc: 0.5709 - f1_m: 0.5276 - precision_m: 0.7181 - recall_m: 0.4179 - val_loss: 1.1091 - val_acc: 0.5597 - val_f1_m: 0.5168 - val_precision_m: 0.6927 - val_recall_m: 0.4131\n",
            "Epoch 8/100\n",
            "98317/98317 [==============================] - 3s 35us/step - loss: 1.0756 - acc: 0.5759 - f1_m: 0.5317 - precision_m: 0.7176 - recall_m: 0.4233 - val_loss: 1.1001 - val_acc: 0.5666 - val_f1_m: 0.5173 - val_precision_m: 0.6994 - val_recall_m: 0.4114\n",
            "Epoch 9/100\n",
            "98317/98317 [==============================] - 3s 35us/step - loss: 1.0679 - acc: 0.5794 - f1_m: 0.5351 - precision_m: 0.7160 - recall_m: 0.4281 - val_loss: 1.0949 - val_acc: 0.5693 - val_f1_m: 0.5201 - val_precision_m: 0.6960 - val_recall_m: 0.4160\n",
            "Epoch 10/100\n",
            "98317/98317 [==============================] - 3s 35us/step - loss: 1.0609 - acc: 0.5825 - f1_m: 0.5380 - precision_m: 0.7152 - recall_m: 0.4321 - val_loss: 1.0890 - val_acc: 0.5713 - val_f1_m: 0.5241 - val_precision_m: 0.6943 - val_recall_m: 0.4219\n",
            "Epoch 11/100\n",
            "98317/98317 [==============================] - 4s 36us/step - loss: 1.0542 - acc: 0.5859 - f1_m: 0.5412 - precision_m: 0.7132 - recall_m: 0.4369 - val_loss: 1.0834 - val_acc: 0.5757 - val_f1_m: 0.5244 - val_precision_m: 0.6925 - val_recall_m: 0.4228\n",
            "Epoch 12/100\n",
            "98317/98317 [==============================] - 4s 36us/step - loss: 1.0477 - acc: 0.5898 - f1_m: 0.5439 - precision_m: 0.7117 - recall_m: 0.4410 - val_loss: 1.0784 - val_acc: 0.5757 - val_f1_m: 0.5295 - val_precision_m: 0.6885 - val_recall_m: 0.4309\n",
            "Epoch 13/100\n",
            "98317/98317 [==============================] - 4s 36us/step - loss: 1.0415 - acc: 0.5926 - f1_m: 0.5480 - precision_m: 0.7097 - recall_m: 0.4472 - val_loss: 1.0731 - val_acc: 0.5800 - val_f1_m: 0.5319 - val_precision_m: 0.6860 - val_recall_m: 0.4351\n",
            "Epoch 14/100\n",
            "98317/98317 [==============================] - 4s 36us/step - loss: 1.0354 - acc: 0.5949 - f1_m: 0.5517 - precision_m: 0.7073 - recall_m: 0.4531 - val_loss: 1.0676 - val_acc: 0.5832 - val_f1_m: 0.5327 - val_precision_m: 0.6835 - val_recall_m: 0.4372\n",
            "Epoch 15/100\n",
            "98317/98317 [==============================] - 3s 36us/step - loss: 1.0295 - acc: 0.5981 - f1_m: 0.5544 - precision_m: 0.7052 - recall_m: 0.4575 - val_loss: 1.0633 - val_acc: 0.5835 - val_f1_m: 0.5345 - val_precision_m: 0.6826 - val_recall_m: 0.4400\n",
            "Epoch 16/100\n",
            "98317/98317 [==============================] - 4s 36us/step - loss: 1.0239 - acc: 0.6000 - f1_m: 0.5569 - precision_m: 0.7036 - recall_m: 0.4617 - val_loss: 1.0595 - val_acc: 0.5834 - val_f1_m: 0.5413 - val_precision_m: 0.6766 - val_recall_m: 0.4517\n",
            "Epoch 17/100\n",
            "98317/98317 [==============================] - 4s 36us/step - loss: 1.0185 - acc: 0.6024 - f1_m: 0.5600 - precision_m: 0.7008 - recall_m: 0.4671 - val_loss: 1.0547 - val_acc: 0.5854 - val_f1_m: 0.5416 - val_precision_m: 0.6761 - val_recall_m: 0.4524\n",
            "Epoch 18/100\n",
            "98317/98317 [==============================] - 4s 37us/step - loss: 1.0133 - acc: 0.6045 - f1_m: 0.5623 - precision_m: 0.6991 - recall_m: 0.4710 - val_loss: 1.0505 - val_acc: 0.5859 - val_f1_m: 0.5447 - val_precision_m: 0.6737 - val_recall_m: 0.4578\n",
            "Epoch 19/100\n",
            "98317/98317 [==============================] - 4s 36us/step - loss: 1.0082 - acc: 0.6059 - f1_m: 0.5653 - precision_m: 0.6974 - recall_m: 0.4759 - val_loss: 1.0467 - val_acc: 0.5859 - val_f1_m: 0.5457 - val_precision_m: 0.6741 - val_recall_m: 0.4590\n",
            "Epoch 20/100\n",
            "98317/98317 [==============================] - 4s 36us/step - loss: 1.0033 - acc: 0.6076 - f1_m: 0.5671 - precision_m: 0.6958 - recall_m: 0.4792 - val_loss: 1.0429 - val_acc: 0.5871 - val_f1_m: 0.5468 - val_precision_m: 0.6711 - val_recall_m: 0.4620\n",
            "Epoch 21/100\n",
            "98317/98317 [==============================] - 4s 36us/step - loss: 0.9987 - acc: 0.6091 - f1_m: 0.5690 - precision_m: 0.6938 - recall_m: 0.4829 - val_loss: 1.0385 - val_acc: 0.5902 - val_f1_m: 0.5435 - val_precision_m: 0.6707 - val_recall_m: 0.4575\n",
            "Epoch 22/100\n",
            "98317/98317 [==============================] - 4s 36us/step - loss: 0.9941 - acc: 0.6109 - f1_m: 0.5712 - precision_m: 0.6935 - recall_m: 0.4864 - val_loss: 1.0351 - val_acc: 0.5910 - val_f1_m: 0.5479 - val_precision_m: 0.6693 - val_recall_m: 0.4644\n",
            "Epoch 23/100\n",
            "98317/98317 [==============================] - 4s 36us/step - loss: 0.9897 - acc: 0.6127 - f1_m: 0.5734 - precision_m: 0.6915 - recall_m: 0.4905 - val_loss: 1.0319 - val_acc: 0.5915 - val_f1_m: 0.5508 - val_precision_m: 0.6683 - val_recall_m: 0.4691\n",
            "Epoch 24/100\n",
            "98317/98317 [==============================] - 4s 36us/step - loss: 0.9855 - acc: 0.6135 - f1_m: 0.5753 - precision_m: 0.6911 - recall_m: 0.4934 - val_loss: 1.0281 - val_acc: 0.5918 - val_f1_m: 0.5519 - val_precision_m: 0.6664 - val_recall_m: 0.4716\n",
            "Epoch 25/100\n",
            "98317/98317 [==============================] - 4s 36us/step - loss: 0.9814 - acc: 0.6152 - f1_m: 0.5771 - precision_m: 0.6905 - recall_m: 0.4964 - val_loss: 1.0247 - val_acc: 0.5929 - val_f1_m: 0.5537 - val_precision_m: 0.6638 - val_recall_m: 0.4755\n",
            "Epoch 26/100\n",
            "98317/98317 [==============================] - 4s 37us/step - loss: 0.9773 - acc: 0.6162 - f1_m: 0.5791 - precision_m: 0.6898 - recall_m: 0.4998 - val_loss: 1.0220 - val_acc: 0.5927 - val_f1_m: 0.5555 - val_precision_m: 0.6641 - val_recall_m: 0.4781\n",
            "Epoch 27/100\n",
            "98317/98317 [==============================] - 4s 36us/step - loss: 0.9732 - acc: 0.6179 - f1_m: 0.5805 - precision_m: 0.6897 - recall_m: 0.5017 - val_loss: 1.0187 - val_acc: 0.5953 - val_f1_m: 0.5596 - val_precision_m: 0.6626 - val_recall_m: 0.4849\n",
            "Epoch 28/100\n",
            "98317/98317 [==============================] - 4s 36us/step - loss: 0.9693 - acc: 0.6190 - f1_m: 0.5821 - precision_m: 0.6884 - recall_m: 0.5048 - val_loss: 1.0168 - val_acc: 0.5944 - val_f1_m: 0.5608 - val_precision_m: 0.6612 - val_recall_m: 0.4875\n",
            "Epoch 29/100\n",
            "98317/98317 [==============================] - 4s 36us/step - loss: 0.9653 - acc: 0.6204 - f1_m: 0.5838 - precision_m: 0.6889 - recall_m: 0.5071 - val_loss: 1.0121 - val_acc: 0.5984 - val_f1_m: 0.5615 - val_precision_m: 0.6632 - val_recall_m: 0.4874\n",
            "Epoch 30/100\n",
            "98317/98317 [==============================] - 4s 36us/step - loss: 0.9615 - acc: 0.6216 - f1_m: 0.5857 - precision_m: 0.6880 - recall_m: 0.5106 - val_loss: 1.0087 - val_acc: 0.5984 - val_f1_m: 0.5625 - val_precision_m: 0.6646 - val_recall_m: 0.4881\n",
            "Epoch 31/100\n",
            "98317/98317 [==============================] - 4s 36us/step - loss: 0.9576 - acc: 0.6229 - f1_m: 0.5873 - precision_m: 0.6881 - recall_m: 0.5129 - val_loss: 1.0070 - val_acc: 0.5993 - val_f1_m: 0.5675 - val_precision_m: 0.6602 - val_recall_m: 0.4981\n",
            "Epoch 32/100\n",
            "98317/98317 [==============================] - 4s 36us/step - loss: 0.9539 - acc: 0.6243 - f1_m: 0.5890 - precision_m: 0.6875 - recall_m: 0.5158 - val_loss: 1.0039 - val_acc: 0.6007 - val_f1_m: 0.5675 - val_precision_m: 0.6593 - val_recall_m: 0.4987\n",
            "Epoch 33/100\n",
            "98317/98317 [==============================] - 4s 36us/step - loss: 0.9501 - acc: 0.6254 - f1_m: 0.5913 - precision_m: 0.6872 - recall_m: 0.5195 - val_loss: 1.0009 - val_acc: 0.6011 - val_f1_m: 0.5695 - val_precision_m: 0.6587 - val_recall_m: 0.5021\n",
            "Epoch 34/100\n",
            "98317/98317 [==============================] - 3s 35us/step - loss: 0.9466 - acc: 0.6268 - f1_m: 0.5931 - precision_m: 0.6872 - recall_m: 0.5222 - val_loss: 0.9972 - val_acc: 0.6019 - val_f1_m: 0.5685 - val_precision_m: 0.6589 - val_recall_m: 0.5004\n",
            "Epoch 35/100\n",
            "98317/98317 [==============================] - 4s 36us/step - loss: 0.9432 - acc: 0.6282 - f1_m: 0.5944 - precision_m: 0.6872 - recall_m: 0.5243 - val_loss: 0.9948 - val_acc: 0.6027 - val_f1_m: 0.5709 - val_precision_m: 0.6594 - val_recall_m: 0.5038\n",
            "Epoch 36/100\n",
            "98317/98317 [==============================] - 4s 36us/step - loss: 0.9396 - acc: 0.6294 - f1_m: 0.5956 - precision_m: 0.6864 - recall_m: 0.5266 - val_loss: 0.9918 - val_acc: 0.6043 - val_f1_m: 0.5724 - val_precision_m: 0.6580 - val_recall_m: 0.5070\n",
            "Epoch 37/100\n",
            "98317/98317 [==============================] - 4s 36us/step - loss: 0.9362 - acc: 0.6308 - f1_m: 0.5976 - precision_m: 0.6869 - recall_m: 0.5293 - val_loss: 0.9893 - val_acc: 0.6051 - val_f1_m: 0.5728 - val_precision_m: 0.6566 - val_recall_m: 0.5085\n",
            "Epoch 38/100\n",
            "98317/98317 [==============================] - 4s 38us/step - loss: 0.9329 - acc: 0.6321 - f1_m: 0.5992 - precision_m: 0.6871 - recall_m: 0.5318 - val_loss: 0.9866 - val_acc: 0.6065 - val_f1_m: 0.5741 - val_precision_m: 0.6570 - val_recall_m: 0.5102\n",
            "Epoch 39/100\n",
            "98317/98317 [==============================] - 4s 38us/step - loss: 0.9297 - acc: 0.6333 - f1_m: 0.6008 - precision_m: 0.6870 - recall_m: 0.5343 - val_loss: 0.9837 - val_acc: 0.6070 - val_f1_m: 0.5747 - val_precision_m: 0.6585 - val_recall_m: 0.5103\n",
            "Epoch 40/100\n",
            "98317/98317 [==============================] - 4s 37us/step - loss: 0.9267 - acc: 0.6340 - f1_m: 0.6025 - precision_m: 0.6876 - recall_m: 0.5367 - val_loss: 0.9813 - val_acc: 0.6078 - val_f1_m: 0.5761 - val_precision_m: 0.6590 - val_recall_m: 0.5122\n",
            "Epoch 41/100\n",
            "98317/98317 [==============================] - 4s 36us/step - loss: 0.9236 - acc: 0.6354 - f1_m: 0.6041 - precision_m: 0.6877 - recall_m: 0.5392 - val_loss: 0.9798 - val_acc: 0.6088 - val_f1_m: 0.5792 - val_precision_m: 0.6555 - val_recall_m: 0.5193\n",
            "Epoch 42/100\n",
            "98317/98317 [==============================] - 4s 36us/step - loss: 0.9208 - acc: 0.6359 - f1_m: 0.6053 - precision_m: 0.6875 - recall_m: 0.5412 - val_loss: 0.9775 - val_acc: 0.6094 - val_f1_m: 0.5793 - val_precision_m: 0.6565 - val_recall_m: 0.5187\n",
            "Epoch 43/100\n",
            "98317/98317 [==============================] - 4s 36us/step - loss: 0.9179 - acc: 0.6374 - f1_m: 0.6071 - precision_m: 0.6878 - recall_m: 0.5438 - val_loss: 0.9749 - val_acc: 0.6114 - val_f1_m: 0.5813 - val_precision_m: 0.6589 - val_recall_m: 0.5205\n",
            "Epoch 44/100\n",
            "98317/98317 [==============================] - 3s 35us/step - loss: 0.9151 - acc: 0.6380 - f1_m: 0.6084 - precision_m: 0.6887 - recall_m: 0.5455 - val_loss: 0.9733 - val_acc: 0.6114 - val_f1_m: 0.5834 - val_precision_m: 0.6575 - val_recall_m: 0.5248\n",
            "Epoch 45/100\n",
            "98317/98317 [==============================] - 3s 35us/step - loss: 0.9124 - acc: 0.6391 - f1_m: 0.6099 - precision_m: 0.6891 - recall_m: 0.5476 - val_loss: 0.9712 - val_acc: 0.6123 - val_f1_m: 0.5814 - val_precision_m: 0.6598 - val_recall_m: 0.5200\n",
            "Epoch 46/100\n",
            "98317/98317 [==============================] - 4s 36us/step - loss: 0.9100 - acc: 0.6400 - f1_m: 0.6115 - precision_m: 0.6894 - recall_m: 0.5498 - val_loss: 0.9692 - val_acc: 0.6134 - val_f1_m: 0.5842 - val_precision_m: 0.6600 - val_recall_m: 0.5244\n",
            "Epoch 47/100\n",
            "98317/98317 [==============================] - 4s 36us/step - loss: 0.9074 - acc: 0.6409 - f1_m: 0.6124 - precision_m: 0.6899 - recall_m: 0.5509 - val_loss: 0.9678 - val_acc: 0.6144 - val_f1_m: 0.5838 - val_precision_m: 0.6586 - val_recall_m: 0.5247\n",
            "Epoch 48/100\n",
            "98317/98317 [==============================] - 4s 36us/step - loss: 0.9050 - acc: 0.6419 - f1_m: 0.6140 - precision_m: 0.6906 - recall_m: 0.5531 - val_loss: 0.9655 - val_acc: 0.6143 - val_f1_m: 0.5860 - val_precision_m: 0.6602 - val_recall_m: 0.5272\n",
            "Epoch 49/100\n",
            "98317/98317 [==============================] - 4s 36us/step - loss: 0.9028 - acc: 0.6424 - f1_m: 0.6151 - precision_m: 0.6902 - recall_m: 0.5552 - val_loss: 0.9645 - val_acc: 0.6152 - val_f1_m: 0.5858 - val_precision_m: 0.6600 - val_recall_m: 0.5270\n",
            "Epoch 50/100\n",
            "98317/98317 [==============================] - 4s 36us/step - loss: 0.9005 - acc: 0.6432 - f1_m: 0.6164 - precision_m: 0.6916 - recall_m: 0.5564 - val_loss: 0.9625 - val_acc: 0.6158 - val_f1_m: 0.5870 - val_precision_m: 0.6597 - val_recall_m: 0.5292\n",
            "Epoch 51/100\n",
            "98317/98317 [==============================] - 4s 36us/step - loss: 0.8984 - acc: 0.6442 - f1_m: 0.6169 - precision_m: 0.6911 - recall_m: 0.5576 - val_loss: 0.9611 - val_acc: 0.6168 - val_f1_m: 0.5871 - val_precision_m: 0.6597 - val_recall_m: 0.5293\n",
            "Epoch 52/100\n",
            "98317/98317 [==============================] - 3s 36us/step - loss: 0.8964 - acc: 0.6449 - f1_m: 0.6177 - precision_m: 0.6918 - recall_m: 0.5584 - val_loss: 0.9608 - val_acc: 0.6157 - val_f1_m: 0.5921 - val_precision_m: 0.6581 - val_recall_m: 0.5386\n",
            "Epoch 53/100\n",
            "98317/98317 [==============================] - 4s 36us/step - loss: 0.8944 - acc: 0.6460 - f1_m: 0.6190 - precision_m: 0.6921 - recall_m: 0.5603 - val_loss: 0.9591 - val_acc: 0.6169 - val_f1_m: 0.5904 - val_precision_m: 0.6577 - val_recall_m: 0.5359\n",
            "Epoch 54/100\n",
            "98317/98317 [==============================] - 4s 36us/step - loss: 0.8925 - acc: 0.6470 - f1_m: 0.6200 - precision_m: 0.6925 - recall_m: 0.5617 - val_loss: 0.9578 - val_acc: 0.6173 - val_f1_m: 0.5895 - val_precision_m: 0.6587 - val_recall_m: 0.5339\n",
            "Epoch 55/100\n",
            "98317/98317 [==============================] - 4s 36us/step - loss: 0.8907 - acc: 0.6473 - f1_m: 0.6208 - precision_m: 0.6933 - recall_m: 0.5626 - val_loss: 0.9559 - val_acc: 0.6197 - val_f1_m: 0.5938 - val_precision_m: 0.6605 - val_recall_m: 0.5398\n",
            "Epoch 56/100\n",
            "98317/98317 [==============================] - 4s 36us/step - loss: 0.8889 - acc: 0.6481 - f1_m: 0.6222 - precision_m: 0.6929 - recall_m: 0.5649 - val_loss: 0.9546 - val_acc: 0.6198 - val_f1_m: 0.5931 - val_precision_m: 0.6616 - val_recall_m: 0.5378\n",
            "Epoch 57/100\n",
            "98317/98317 [==============================] - 4s 36us/step - loss: 0.8872 - acc: 0.6489 - f1_m: 0.6225 - precision_m: 0.6940 - recall_m: 0.5648 - val_loss: 0.9540 - val_acc: 0.6195 - val_f1_m: 0.5957 - val_precision_m: 0.6633 - val_recall_m: 0.5410\n",
            "Epoch 58/100\n",
            "98317/98317 [==============================] - 4s 36us/step - loss: 0.8856 - acc: 0.6496 - f1_m: 0.6236 - precision_m: 0.6941 - recall_m: 0.5667 - val_loss: 0.9527 - val_acc: 0.6211 - val_f1_m: 0.5948 - val_precision_m: 0.6635 - val_recall_m: 0.5393\n",
            "Epoch 59/100\n",
            "98317/98317 [==============================] - 3s 35us/step - loss: 0.8840 - acc: 0.6504 - f1_m: 0.6244 - precision_m: 0.6942 - recall_m: 0.5678 - val_loss: 0.9514 - val_acc: 0.6222 - val_f1_m: 0.5960 - val_precision_m: 0.6628 - val_recall_m: 0.5418\n",
            "Epoch 60/100\n",
            "98317/98317 [==============================] - 3s 35us/step - loss: 0.8825 - acc: 0.6509 - f1_m: 0.6250 - precision_m: 0.6944 - recall_m: 0.5686 - val_loss: 0.9504 - val_acc: 0.6222 - val_f1_m: 0.5953 - val_precision_m: 0.6639 - val_recall_m: 0.5399\n",
            "Epoch 61/100\n",
            "98317/98317 [==============================] - 3s 35us/step - loss: 0.8810 - acc: 0.6517 - f1_m: 0.6258 - precision_m: 0.6955 - recall_m: 0.5693 - val_loss: 0.9491 - val_acc: 0.6250 - val_f1_m: 0.5967 - val_precision_m: 0.6646 - val_recall_m: 0.5417\n",
            "Epoch 62/100\n",
            "98317/98317 [==============================] - 4s 36us/step - loss: 0.8796 - acc: 0.6524 - f1_m: 0.6272 - precision_m: 0.6954 - recall_m: 0.5717 - val_loss: 0.9494 - val_acc: 0.6216 - val_f1_m: 0.5980 - val_precision_m: 0.6630 - val_recall_m: 0.5449\n",
            "Epoch 63/100\n",
            "98317/98317 [==============================] - 4s 36us/step - loss: 0.8782 - acc: 0.6530 - f1_m: 0.6277 - precision_m: 0.6962 - recall_m: 0.5719 - val_loss: 0.9475 - val_acc: 0.6254 - val_f1_m: 0.5972 - val_precision_m: 0.6660 - val_recall_m: 0.5417\n",
            "Epoch 64/100\n",
            "98317/98317 [==============================] - 4s 36us/step - loss: 0.8769 - acc: 0.6542 - f1_m: 0.6281 - precision_m: 0.6958 - recall_m: 0.5728 - val_loss: 0.9472 - val_acc: 0.6232 - val_f1_m: 0.5998 - val_precision_m: 0.6616 - val_recall_m: 0.5489\n",
            "Epoch 65/100\n",
            "98317/98317 [==============================] - 3s 36us/step - loss: 0.8756 - acc: 0.6543 - f1_m: 0.6296 - precision_m: 0.6967 - recall_m: 0.5747 - val_loss: 0.9458 - val_acc: 0.6238 - val_f1_m: 0.5985 - val_precision_m: 0.6625 - val_recall_m: 0.5461\n",
            "Epoch 66/100\n",
            "98317/98317 [==============================] - 3s 35us/step - loss: 0.8743 - acc: 0.6547 - f1_m: 0.6299 - precision_m: 0.6966 - recall_m: 0.5752 - val_loss: 0.9458 - val_acc: 0.6239 - val_f1_m: 0.6001 - val_precision_m: 0.6605 - val_recall_m: 0.5501\n",
            "Epoch 67/100\n",
            "98317/98317 [==============================] - 4s 36us/step - loss: 0.8732 - acc: 0.6555 - f1_m: 0.6307 - precision_m: 0.6969 - recall_m: 0.5764 - val_loss: 0.9447 - val_acc: 0.6243 - val_f1_m: 0.6011 - val_precision_m: 0.6646 - val_recall_m: 0.5491\n",
            "Epoch 68/100\n",
            "98317/98317 [==============================] - 4s 36us/step - loss: 0.8720 - acc: 0.6560 - f1_m: 0.6312 - precision_m: 0.6968 - recall_m: 0.5774 - val_loss: 0.9436 - val_acc: 0.6260 - val_f1_m: 0.6008 - val_precision_m: 0.6636 - val_recall_m: 0.5492\n",
            "Epoch 69/100\n",
            "98317/98317 [==============================] - 4s 36us/step - loss: 0.8709 - acc: 0.6558 - f1_m: 0.6314 - precision_m: 0.6966 - recall_m: 0.5778 - val_loss: 0.9430 - val_acc: 0.6246 - val_f1_m: 0.6010 - val_precision_m: 0.6639 - val_recall_m: 0.5492\n",
            "Epoch 70/100\n",
            "98317/98317 [==============================] - 3s 36us/step - loss: 0.8698 - acc: 0.6563 - f1_m: 0.6317 - precision_m: 0.6970 - recall_m: 0.5779 - val_loss: 0.9430 - val_acc: 0.6244 - val_f1_m: 0.6021 - val_precision_m: 0.6603 - val_recall_m: 0.5535\n",
            "Epoch 71/100\n",
            "98317/98317 [==============================] - 4s 36us/step - loss: 0.8688 - acc: 0.6569 - f1_m: 0.6330 - precision_m: 0.6974 - recall_m: 0.5800 - val_loss: 0.9415 - val_acc: 0.6256 - val_f1_m: 0.6018 - val_precision_m: 0.6628 - val_recall_m: 0.5514\n",
            "Epoch 72/100\n",
            "98317/98317 [==============================] - 4s 36us/step - loss: 0.8677 - acc: 0.6572 - f1_m: 0.6332 - precision_m: 0.6973 - recall_m: 0.5803 - val_loss: 0.9409 - val_acc: 0.6267 - val_f1_m: 0.6024 - val_precision_m: 0.6634 - val_recall_m: 0.5519\n",
            "Epoch 73/100\n",
            "98317/98317 [==============================] - 3s 35us/step - loss: 0.8668 - acc: 0.6573 - f1_m: 0.6332 - precision_m: 0.6968 - recall_m: 0.5807 - val_loss: 0.9401 - val_acc: 0.6265 - val_f1_m: 0.6015 - val_precision_m: 0.6635 - val_recall_m: 0.5505\n",
            "Epoch 74/100\n",
            "98317/98317 [==============================] - 3s 36us/step - loss: 0.8658 - acc: 0.6582 - f1_m: 0.6343 - precision_m: 0.6978 - recall_m: 0.5819 - val_loss: 0.9398 - val_acc: 0.6259 - val_f1_m: 0.6026 - val_precision_m: 0.6629 - val_recall_m: 0.5526\n",
            "Epoch 75/100\n",
            "98317/98317 [==============================] - 4s 36us/step - loss: 0.8649 - acc: 0.6582 - f1_m: 0.6346 - precision_m: 0.6978 - recall_m: 0.5823 - val_loss: 0.9389 - val_acc: 0.6261 - val_f1_m: 0.6024 - val_precision_m: 0.6638 - val_recall_m: 0.5517\n",
            "Epoch 76/100\n",
            "98317/98317 [==============================] - 4s 37us/step - loss: 0.8640 - acc: 0.6588 - f1_m: 0.6354 - precision_m: 0.6983 - recall_m: 0.5833 - val_loss: 0.9388 - val_acc: 0.6257 - val_f1_m: 0.6032 - val_precision_m: 0.6628 - val_recall_m: 0.5539\n",
            "Epoch 77/100\n",
            "98317/98317 [==============================] - 4s 38us/step - loss: 0.8631 - acc: 0.6590 - f1_m: 0.6357 - precision_m: 0.6979 - recall_m: 0.5840 - val_loss: 0.9378 - val_acc: 0.6267 - val_f1_m: 0.6022 - val_precision_m: 0.6639 - val_recall_m: 0.5513\n",
            "Epoch 78/100\n",
            "98317/98317 [==============================] - 4s 36us/step - loss: 0.8622 - acc: 0.6593 - f1_m: 0.6363 - precision_m: 0.6986 - recall_m: 0.5846 - val_loss: 0.9375 - val_acc: 0.6265 - val_f1_m: 0.6043 - val_precision_m: 0.6642 - val_recall_m: 0.5548\n",
            "Epoch 79/100\n",
            "98317/98317 [==============================] - 4s 36us/step - loss: 0.8614 - acc: 0.6596 - f1_m: 0.6363 - precision_m: 0.6984 - recall_m: 0.5849 - val_loss: 0.9372 - val_acc: 0.6267 - val_f1_m: 0.6039 - val_precision_m: 0.6617 - val_recall_m: 0.5557\n",
            "Epoch 80/100\n",
            "98317/98317 [==============================] - 3s 36us/step - loss: 0.8606 - acc: 0.6599 - f1_m: 0.6367 - precision_m: 0.6984 - recall_m: 0.5854 - val_loss: 0.9365 - val_acc: 0.6272 - val_f1_m: 0.6048 - val_precision_m: 0.6640 - val_recall_m: 0.5556\n",
            "Epoch 81/100\n",
            "98317/98317 [==============================] - 3s 35us/step - loss: 0.8598 - acc: 0.6605 - f1_m: 0.6371 - precision_m: 0.6986 - recall_m: 0.5859 - val_loss: 0.9360 - val_acc: 0.6274 - val_f1_m: 0.6046 - val_precision_m: 0.6630 - val_recall_m: 0.5560\n",
            "Epoch 82/100\n",
            "98317/98317 [==============================] - 3s 35us/step - loss: 0.8591 - acc: 0.6606 - f1_m: 0.6376 - precision_m: 0.6988 - recall_m: 0.5867 - val_loss: 0.9360 - val_acc: 0.6273 - val_f1_m: 0.6058 - val_precision_m: 0.6626 - val_recall_m: 0.5583\n",
            "Epoch 83/100\n",
            "98317/98317 [==============================] - 4s 36us/step - loss: 0.8584 - acc: 0.6605 - f1_m: 0.6380 - precision_m: 0.6987 - recall_m: 0.5875 - val_loss: 0.9347 - val_acc: 0.6291 - val_f1_m: 0.6066 - val_precision_m: 0.6673 - val_recall_m: 0.5565\n",
            "Epoch 84/100\n",
            "98317/98317 [==============================] - 4s 36us/step - loss: 0.8576 - acc: 0.6608 - f1_m: 0.6383 - precision_m: 0.6989 - recall_m: 0.5878 - val_loss: 0.9348 - val_acc: 0.6274 - val_f1_m: 0.6055 - val_precision_m: 0.6639 - val_recall_m: 0.5569\n",
            "Epoch 85/100\n",
            "98317/98317 [==============================] - 4s 36us/step - loss: 0.8569 - acc: 0.6609 - f1_m: 0.6386 - precision_m: 0.6990 - recall_m: 0.5882 - val_loss: 0.9343 - val_acc: 0.6285 - val_f1_m: 0.6055 - val_precision_m: 0.6632 - val_recall_m: 0.5574\n",
            "Epoch 86/100\n",
            "98317/98317 [==============================] - 3s 35us/step - loss: 0.8562 - acc: 0.6616 - f1_m: 0.6394 - precision_m: 0.6999 - recall_m: 0.5890 - val_loss: 0.9344 - val_acc: 0.6281 - val_f1_m: 0.6063 - val_precision_m: 0.6622 - val_recall_m: 0.5594\n",
            "Epoch 87/100\n",
            "98317/98317 [==============================] - 4s 36us/step - loss: 0.8556 - acc: 0.6617 - f1_m: 0.6396 - precision_m: 0.6997 - recall_m: 0.5894 - val_loss: 0.9341 - val_acc: 0.6280 - val_f1_m: 0.6066 - val_precision_m: 0.6632 - val_recall_m: 0.5593\n",
            "Epoch 88/100\n",
            "98317/98317 [==============================] - 3s 35us/step - loss: 0.8550 - acc: 0.6617 - f1_m: 0.6397 - precision_m: 0.6991 - recall_m: 0.5901 - val_loss: 0.9332 - val_acc: 0.6276 - val_f1_m: 0.6072 - val_precision_m: 0.6644 - val_recall_m: 0.5594\n",
            "Epoch 89/100\n",
            "98317/98317 [==============================] - 3s 35us/step - loss: 0.8543 - acc: 0.6623 - f1_m: 0.6400 - precision_m: 0.6998 - recall_m: 0.5899 - val_loss: 0.9330 - val_acc: 0.6272 - val_f1_m: 0.6076 - val_precision_m: 0.6631 - val_recall_m: 0.5610\n",
            "Epoch 90/100\n",
            "98317/98317 [==============================] - 4s 36us/step - loss: 0.8537 - acc: 0.6623 - f1_m: 0.6400 - precision_m: 0.6995 - recall_m: 0.5903 - val_loss: 0.9322 - val_acc: 0.6278 - val_f1_m: 0.6090 - val_precision_m: 0.6649 - val_recall_m: 0.5621\n",
            "Epoch 91/100\n",
            "98317/98317 [==============================] - 4s 36us/step - loss: 0.8531 - acc: 0.6628 - f1_m: 0.6406 - precision_m: 0.6998 - recall_m: 0.5911 - val_loss: 0.9324 - val_acc: 0.6277 - val_f1_m: 0.6085 - val_precision_m: 0.6651 - val_recall_m: 0.5611\n",
            "Epoch 92/100\n",
            "98317/98317 [==============================] - 3s 35us/step - loss: 0.8525 - acc: 0.6633 - f1_m: 0.6411 - precision_m: 0.7001 - recall_m: 0.5917 - val_loss: 0.9318 - val_acc: 0.6283 - val_f1_m: 0.6089 - val_precision_m: 0.6650 - val_recall_m: 0.5619\n",
            "Epoch 93/100\n",
            "98317/98317 [==============================] - 4s 36us/step - loss: 0.8519 - acc: 0.6629 - f1_m: 0.6409 - precision_m: 0.7003 - recall_m: 0.5912 - val_loss: 0.9317 - val_acc: 0.6273 - val_f1_m: 0.6095 - val_precision_m: 0.6635 - val_recall_m: 0.5640\n",
            "Epoch 94/100\n",
            "98317/98317 [==============================] - 4s 36us/step - loss: 0.8514 - acc: 0.6630 - f1_m: 0.6414 - precision_m: 0.7000 - recall_m: 0.5923 - val_loss: 0.9312 - val_acc: 0.6278 - val_f1_m: 0.6098 - val_precision_m: 0.6647 - val_recall_m: 0.5636\n",
            "Epoch 95/100\n",
            "98317/98317 [==============================] - 3s 35us/step - loss: 0.8508 - acc: 0.6631 - f1_m: 0.6418 - precision_m: 0.6999 - recall_m: 0.5929 - val_loss: 0.9305 - val_acc: 0.6295 - val_f1_m: 0.6103 - val_precision_m: 0.6680 - val_recall_m: 0.5622\n",
            "Epoch 96/100\n",
            "98317/98317 [==============================] - 4s 36us/step - loss: 0.8503 - acc: 0.6634 - f1_m: 0.6423 - precision_m: 0.7005 - recall_m: 0.5934 - val_loss: 0.9306 - val_acc: 0.6289 - val_f1_m: 0.6097 - val_precision_m: 0.6662 - val_recall_m: 0.5624\n",
            "Epoch 97/100\n",
            "98317/98317 [==============================] - 4s 36us/step - loss: 0.8497 - acc: 0.6639 - f1_m: 0.6423 - precision_m: 0.7007 - recall_m: 0.5933 - val_loss: 0.9298 - val_acc: 0.6293 - val_f1_m: 0.6109 - val_precision_m: 0.6659 - val_recall_m: 0.5647\n",
            "Epoch 98/100\n",
            "98317/98317 [==============================] - 4s 36us/step - loss: 0.8492 - acc: 0.6637 - f1_m: 0.6429 - precision_m: 0.7004 - recall_m: 0.5945 - val_loss: 0.9300 - val_acc: 0.6295 - val_f1_m: 0.6111 - val_precision_m: 0.6659 - val_recall_m: 0.5649\n",
            "Epoch 99/100\n",
            "98317/98317 [==============================] - 3s 36us/step - loss: 0.8487 - acc: 0.6638 - f1_m: 0.6432 - precision_m: 0.7011 - recall_m: 0.5945 - val_loss: 0.9294 - val_acc: 0.6286 - val_f1_m: 0.6113 - val_precision_m: 0.6675 - val_recall_m: 0.5642\n",
            "Epoch 100/100\n",
            "98317/98317 [==============================] - 4s 36us/step - loss: 0.8483 - acc: 0.6643 - f1_m: 0.6434 - precision_m: 0.7010 - recall_m: 0.5949 - val_loss: 0.9292 - val_acc: 0.6290 - val_f1_m: 0.6117 - val_precision_m: 0.6671 - val_recall_m: 0.5651\n",
            "Training Time: 359.94 seconds\n"
          ],
          "name": "stdout"
        }
      ]
    },
    {
      "cell_type": "code",
      "metadata": {
        "id": "GHSu-BLOQ-bv",
        "colab_type": "code",
        "colab": {
          "base_uri": "https://localhost:8080/",
          "height": 1000
        },
        "outputId": "344a380b-bbfc-4c12-93fa-d89c7bf508e9"
      },
      "source": [
        "#Test Model\n",
        "history_test= Model.fit(X_train_seq_trunc,\n",
        "              y_train_oh,\n",
        "              epochs=num_epochs,\n",
        "              batch_size=128,\n",
        "              verbose=1)\n",
        "\n",
        "# Evaluate the model\n",
        "loss, accuracy, f1_score, precision, recall = Model.evaluate(X_test_seq_trunc, y_test_oh)\n",
        "\n",
        "print('\\nTest accuracy : {0:.2f}%'.format(accuracy*100))\n",
        "print('\\nf1 : {0:.2f}%'.format(f1_score*100))\n",
        "print('\\nprecision : {0:.2f}%'.format(precision*100))\n",
        "print('\\nrecall : {0:.2f}%'.format(recall*100))"
      ],
      "execution_count": 19,
      "outputs": [
        {
          "output_type": "stream",
          "text": [
            "Epoch 1/100\n",
            "109242/109242 [==============================] - 4s 35us/step - loss: 0.8559 - acc: 0.6614 - f1_m: 0.6404 - precision_m: 0.6979 - recall_m: 0.5920\n",
            "Epoch 2/100\n",
            "109242/109242 [==============================] - 4s 35us/step - loss: 0.8552 - acc: 0.6611 - f1_m: 0.6404 - precision_m: 0.6984 - recall_m: 0.5916\n",
            "Epoch 3/100\n",
            "109242/109242 [==============================] - 4s 34us/step - loss: 0.8545 - acc: 0.6616 - f1_m: 0.6402 - precision_m: 0.6985 - recall_m: 0.5913\n",
            "Epoch 4/100\n",
            "109242/109242 [==============================] - 4s 34us/step - loss: 0.8538 - acc: 0.6616 - f1_m: 0.6407 - precision_m: 0.6985 - recall_m: 0.5922\n",
            "Epoch 5/100\n",
            "109242/109242 [==============================] - 4s 34us/step - loss: 0.8533 - acc: 0.6623 - f1_m: 0.6411 - precision_m: 0.6992 - recall_m: 0.5922\n",
            "Epoch 6/100\n",
            "109242/109242 [==============================] - 4s 34us/step - loss: 0.8527 - acc: 0.6620 - f1_m: 0.6413 - precision_m: 0.6990 - recall_m: 0.5927\n",
            "Epoch 7/100\n",
            "109242/109242 [==============================] - 4s 34us/step - loss: 0.8521 - acc: 0.6624 - f1_m: 0.6413 - precision_m: 0.6994 - recall_m: 0.5926\n",
            "Epoch 8/100\n",
            "109242/109242 [==============================] - 4s 34us/step - loss: 0.8516 - acc: 0.6627 - f1_m: 0.6418 - precision_m: 0.6993 - recall_m: 0.5935\n",
            "Epoch 9/100\n",
            "109242/109242 [==============================] - 4s 35us/step - loss: 0.8511 - acc: 0.6627 - f1_m: 0.6416 - precision_m: 0.6992 - recall_m: 0.5932\n",
            "Epoch 10/100\n",
            "109242/109242 [==============================] - 4s 34us/step - loss: 0.8505 - acc: 0.6630 - f1_m: 0.6423 - precision_m: 0.6998 - recall_m: 0.5939\n",
            "Epoch 11/100\n",
            "109242/109242 [==============================] - 4s 35us/step - loss: 0.8500 - acc: 0.6630 - f1_m: 0.6425 - precision_m: 0.6999 - recall_m: 0.5940\n",
            "Epoch 12/100\n",
            "109242/109242 [==============================] - 4s 34us/step - loss: 0.8495 - acc: 0.6631 - f1_m: 0.6432 - precision_m: 0.7005 - recall_m: 0.5950\n",
            "Epoch 13/100\n",
            "109242/109242 [==============================] - 4s 34us/step - loss: 0.8491 - acc: 0.6636 - f1_m: 0.6433 - precision_m: 0.7004 - recall_m: 0.5952\n",
            "Epoch 14/100\n",
            "109242/109242 [==============================] - 4s 34us/step - loss: 0.8486 - acc: 0.6635 - f1_m: 0.6434 - precision_m: 0.7006 - recall_m: 0.5951\n",
            "Epoch 15/100\n",
            "109242/109242 [==============================] - 4s 34us/step - loss: 0.8482 - acc: 0.6638 - f1_m: 0.6433 - precision_m: 0.7006 - recall_m: 0.5950\n",
            "Epoch 16/100\n",
            "109242/109242 [==============================] - 4s 34us/step - loss: 0.8477 - acc: 0.6639 - f1_m: 0.6436 - precision_m: 0.7003 - recall_m: 0.5957\n",
            "Epoch 17/100\n",
            "109242/109242 [==============================] - 4s 35us/step - loss: 0.8473 - acc: 0.6642 - f1_m: 0.6437 - precision_m: 0.7006 - recall_m: 0.5958\n",
            "Epoch 18/100\n",
            "109242/109242 [==============================] - 4s 34us/step - loss: 0.8469 - acc: 0.6644 - f1_m: 0.6439 - precision_m: 0.7006 - recall_m: 0.5962\n",
            "Epoch 19/100\n",
            "109242/109242 [==============================] - 4s 34us/step - loss: 0.8464 - acc: 0.6645 - f1_m: 0.6443 - precision_m: 0.7005 - recall_m: 0.5968\n",
            "Epoch 20/100\n",
            "109242/109242 [==============================] - 4s 34us/step - loss: 0.8460 - acc: 0.6645 - f1_m: 0.6445 - precision_m: 0.7011 - recall_m: 0.5968\n",
            "Epoch 21/100\n",
            "109242/109242 [==============================] - 4s 34us/step - loss: 0.8457 - acc: 0.6649 - f1_m: 0.6448 - precision_m: 0.7014 - recall_m: 0.5970\n",
            "Epoch 22/100\n",
            "109242/109242 [==============================] - 4s 35us/step - loss: 0.8453 - acc: 0.6650 - f1_m: 0.6451 - precision_m: 0.7012 - recall_m: 0.5977\n",
            "Epoch 23/100\n",
            "109242/109242 [==============================] - 4s 35us/step - loss: 0.8449 - acc: 0.6651 - f1_m: 0.6451 - precision_m: 0.7010 - recall_m: 0.5978\n",
            "Epoch 24/100\n",
            "109242/109242 [==============================] - 4s 35us/step - loss: 0.8445 - acc: 0.6650 - f1_m: 0.6453 - precision_m: 0.7012 - recall_m: 0.5980\n",
            "Epoch 25/100\n",
            "109242/109242 [==============================] - 4s 35us/step - loss: 0.8442 - acc: 0.6652 - f1_m: 0.6453 - precision_m: 0.7011 - recall_m: 0.5981\n",
            "Epoch 26/100\n",
            "109242/109242 [==============================] - 4s 34us/step - loss: 0.8437 - acc: 0.6656 - f1_m: 0.6454 - precision_m: 0.7011 - recall_m: 0.5982\n",
            "Epoch 27/100\n",
            "109242/109242 [==============================] - 4s 33us/step - loss: 0.8434 - acc: 0.6654 - f1_m: 0.6457 - precision_m: 0.7014 - recall_m: 0.5985\n",
            "Epoch 28/100\n",
            "109242/109242 [==============================] - 4s 34us/step - loss: 0.8431 - acc: 0.6660 - f1_m: 0.6456 - precision_m: 0.7015 - recall_m: 0.5984\n",
            "Epoch 29/100\n",
            "109242/109242 [==============================] - 4s 33us/step - loss: 0.8427 - acc: 0.6661 - f1_m: 0.6460 - precision_m: 0.7017 - recall_m: 0.5989\n",
            "Epoch 30/100\n",
            "109242/109242 [==============================] - 4s 34us/step - loss: 0.8424 - acc: 0.6661 - f1_m: 0.6462 - precision_m: 0.7014 - recall_m: 0.5994\n",
            "Epoch 31/100\n",
            "109242/109242 [==============================] - 4s 34us/step - loss: 0.8421 - acc: 0.6660 - f1_m: 0.6466 - precision_m: 0.7017 - recall_m: 0.5999\n",
            "Epoch 32/100\n",
            "109242/109242 [==============================] - 4s 33us/step - loss: 0.8418 - acc: 0.6665 - f1_m: 0.6462 - precision_m: 0.7018 - recall_m: 0.5992\n",
            "Epoch 33/100\n",
            "109242/109242 [==============================] - 4s 33us/step - loss: 0.8415 - acc: 0.6664 - f1_m: 0.6466 - precision_m: 0.7018 - recall_m: 0.5998\n",
            "Epoch 34/100\n",
            "109242/109242 [==============================] - 4s 33us/step - loss: 0.8411 - acc: 0.6666 - f1_m: 0.6466 - precision_m: 0.7019 - recall_m: 0.5998\n",
            "Epoch 35/100\n",
            "109242/109242 [==============================] - 4s 34us/step - loss: 0.8408 - acc: 0.6666 - f1_m: 0.6465 - precision_m: 0.7016 - recall_m: 0.5998\n",
            "Epoch 36/100\n",
            "109242/109242 [==============================] - 4s 34us/step - loss: 0.8405 - acc: 0.6668 - f1_m: 0.6468 - precision_m: 0.7015 - recall_m: 0.6004\n",
            "Epoch 37/100\n",
            "109242/109242 [==============================] - 4s 34us/step - loss: 0.8402 - acc: 0.6667 - f1_m: 0.6469 - precision_m: 0.7018 - recall_m: 0.6003\n",
            "Epoch 38/100\n",
            "109242/109242 [==============================] - 4s 34us/step - loss: 0.8399 - acc: 0.6671 - f1_m: 0.6469 - precision_m: 0.7018 - recall_m: 0.6003\n",
            "Epoch 39/100\n",
            "109242/109242 [==============================] - 4s 34us/step - loss: 0.8397 - acc: 0.6673 - f1_m: 0.6473 - precision_m: 0.7022 - recall_m: 0.6007\n",
            "Epoch 40/100\n",
            "109242/109242 [==============================] - 4s 33us/step - loss: 0.8394 - acc: 0.6671 - f1_m: 0.6473 - precision_m: 0.7020 - recall_m: 0.6009\n",
            "Epoch 41/100\n",
            "109242/109242 [==============================] - 4s 34us/step - loss: 0.8391 - acc: 0.6672 - f1_m: 0.6477 - precision_m: 0.7023 - recall_m: 0.6014\n",
            "Epoch 42/100\n",
            "109242/109242 [==============================] - 4s 33us/step - loss: 0.8388 - acc: 0.6672 - f1_m: 0.6477 - precision_m: 0.7019 - recall_m: 0.6016\n",
            "Epoch 43/100\n",
            "109242/109242 [==============================] - 4s 34us/step - loss: 0.8385 - acc: 0.6679 - f1_m: 0.6478 - precision_m: 0.7026 - recall_m: 0.6013\n",
            "Epoch 44/100\n",
            "109242/109242 [==============================] - 4s 34us/step - loss: 0.8383 - acc: 0.6674 - f1_m: 0.6480 - precision_m: 0.7024 - recall_m: 0.6018\n",
            "Epoch 45/100\n",
            "109242/109242 [==============================] - 4s 34us/step - loss: 0.8380 - acc: 0.6675 - f1_m: 0.6478 - precision_m: 0.7022 - recall_m: 0.6016\n",
            "Epoch 46/100\n",
            "109242/109242 [==============================] - 4s 33us/step - loss: 0.8378 - acc: 0.6678 - f1_m: 0.6480 - precision_m: 0.7024 - recall_m: 0.6018\n",
            "Epoch 47/100\n",
            "109242/109242 [==============================] - 4s 33us/step - loss: 0.8376 - acc: 0.6678 - f1_m: 0.6485 - precision_m: 0.7026 - recall_m: 0.6025\n",
            "Epoch 48/100\n",
            "109242/109242 [==============================] - 4s 33us/step - loss: 0.8373 - acc: 0.6678 - f1_m: 0.6483 - precision_m: 0.7023 - recall_m: 0.6024\n",
            "Epoch 49/100\n",
            "109242/109242 [==============================] - 4s 34us/step - loss: 0.8370 - acc: 0.6683 - f1_m: 0.6484 - precision_m: 0.7025 - recall_m: 0.6025\n",
            "Epoch 50/100\n",
            "109242/109242 [==============================] - 4s 33us/step - loss: 0.8368 - acc: 0.6683 - f1_m: 0.6487 - precision_m: 0.7026 - recall_m: 0.6029\n",
            "Epoch 51/100\n",
            "109242/109242 [==============================] - 4s 34us/step - loss: 0.8366 - acc: 0.6685 - f1_m: 0.6486 - precision_m: 0.7028 - recall_m: 0.6026\n",
            "Epoch 52/100\n",
            "109242/109242 [==============================] - 4s 33us/step - loss: 0.8363 - acc: 0.6685 - f1_m: 0.6490 - precision_m: 0.7027 - recall_m: 0.6033\n",
            "Epoch 53/100\n",
            "109242/109242 [==============================] - 4s 33us/step - loss: 0.8361 - acc: 0.6685 - f1_m: 0.6489 - precision_m: 0.7028 - recall_m: 0.6031\n",
            "Epoch 54/100\n",
            "109242/109242 [==============================] - 4s 33us/step - loss: 0.8359 - acc: 0.6688 - f1_m: 0.6490 - precision_m: 0.7027 - recall_m: 0.6032\n",
            "Epoch 55/100\n",
            "109242/109242 [==============================] - 4s 33us/step - loss: 0.8356 - acc: 0.6687 - f1_m: 0.6490 - precision_m: 0.7026 - recall_m: 0.6033\n",
            "Epoch 56/100\n",
            "109242/109242 [==============================] - 4s 33us/step - loss: 0.8355 - acc: 0.6687 - f1_m: 0.6490 - precision_m: 0.7029 - recall_m: 0.6031\n",
            "Epoch 57/100\n",
            "109242/109242 [==============================] - 4s 33us/step - loss: 0.8352 - acc: 0.6687 - f1_m: 0.6493 - precision_m: 0.7031 - recall_m: 0.6034\n",
            "Epoch 58/100\n",
            "109242/109242 [==============================] - 4s 33us/step - loss: 0.8350 - acc: 0.6689 - f1_m: 0.6495 - precision_m: 0.7029 - recall_m: 0.6040\n",
            "Epoch 59/100\n",
            "109242/109242 [==============================] - 4s 35us/step - loss: 0.8348 - acc: 0.6691 - f1_m: 0.6495 - precision_m: 0.7029 - recall_m: 0.6040\n",
            "Epoch 60/100\n",
            "109242/109242 [==============================] - 4s 34us/step - loss: 0.8346 - acc: 0.6692 - f1_m: 0.6497 - precision_m: 0.7030 - recall_m: 0.6043\n",
            "Epoch 61/100\n",
            "109242/109242 [==============================] - 4s 33us/step - loss: 0.8344 - acc: 0.6693 - f1_m: 0.6498 - precision_m: 0.7032 - recall_m: 0.6044\n",
            "Epoch 62/100\n",
            "109242/109242 [==============================] - 4s 33us/step - loss: 0.8342 - acc: 0.6693 - f1_m: 0.6497 - precision_m: 0.7030 - recall_m: 0.6043\n",
            "Epoch 63/100\n",
            "109242/109242 [==============================] - 4s 33us/step - loss: 0.8340 - acc: 0.6692 - f1_m: 0.6503 - precision_m: 0.7035 - recall_m: 0.6050\n",
            "Epoch 64/100\n",
            "109242/109242 [==============================] - 4s 33us/step - loss: 0.8337 - acc: 0.6693 - f1_m: 0.6501 - precision_m: 0.7032 - recall_m: 0.6048\n",
            "Epoch 65/100\n",
            "109242/109242 [==============================] - 4s 33us/step - loss: 0.8336 - acc: 0.6694 - f1_m: 0.6503 - precision_m: 0.7036 - recall_m: 0.6048\n",
            "Epoch 66/100\n",
            "109242/109242 [==============================] - 4s 33us/step - loss: 0.8334 - acc: 0.6696 - f1_m: 0.6502 - precision_m: 0.7033 - recall_m: 0.6050\n",
            "Epoch 67/100\n",
            "109242/109242 [==============================] - 4s 33us/step - loss: 0.8332 - acc: 0.6695 - f1_m: 0.6504 - precision_m: 0.7034 - recall_m: 0.6052\n",
            "Epoch 68/100\n",
            "109242/109242 [==============================] - 4s 33us/step - loss: 0.8330 - acc: 0.6698 - f1_m: 0.6504 - precision_m: 0.7036 - recall_m: 0.6050\n",
            "Epoch 69/100\n",
            "109242/109242 [==============================] - 4s 33us/step - loss: 0.8328 - acc: 0.6699 - f1_m: 0.6506 - precision_m: 0.7035 - recall_m: 0.6054\n",
            "Epoch 70/100\n",
            "109242/109242 [==============================] - 4s 33us/step - loss: 0.8326 - acc: 0.6698 - f1_m: 0.6505 - precision_m: 0.7035 - recall_m: 0.6054\n",
            "Epoch 71/100\n",
            "109242/109242 [==============================] - 4s 34us/step - loss: 0.8324 - acc: 0.6699 - f1_m: 0.6509 - precision_m: 0.7035 - recall_m: 0.6059\n",
            "Epoch 72/100\n",
            "109242/109242 [==============================] - 4s 33us/step - loss: 0.8323 - acc: 0.6701 - f1_m: 0.6508 - precision_m: 0.7038 - recall_m: 0.6056\n",
            "Epoch 73/100\n",
            "109242/109242 [==============================] - 4s 34us/step - loss: 0.8321 - acc: 0.6700 - f1_m: 0.6510 - precision_m: 0.7038 - recall_m: 0.6060\n",
            "Epoch 74/100\n",
            "109242/109242 [==============================] - 4s 34us/step - loss: 0.8319 - acc: 0.6702 - f1_m: 0.6514 - precision_m: 0.7041 - recall_m: 0.6063\n",
            "Epoch 75/100\n",
            "109242/109242 [==============================] - 4s 33us/step - loss: 0.8317 - acc: 0.6703 - f1_m: 0.6511 - precision_m: 0.7040 - recall_m: 0.6060\n",
            "Epoch 76/100\n",
            "109242/109242 [==============================] - 4s 33us/step - loss: 0.8316 - acc: 0.6698 - f1_m: 0.6512 - precision_m: 0.7041 - recall_m: 0.6061\n",
            "Epoch 77/100\n",
            "109242/109242 [==============================] - 4s 34us/step - loss: 0.8314 - acc: 0.6703 - f1_m: 0.6515 - precision_m: 0.7039 - recall_m: 0.6066\n",
            "Epoch 78/100\n",
            "109242/109242 [==============================] - 4s 33us/step - loss: 0.8312 - acc: 0.6704 - f1_m: 0.6514 - precision_m: 0.7040 - recall_m: 0.6064\n",
            "Epoch 79/100\n",
            "109242/109242 [==============================] - 4s 33us/step - loss: 0.8310 - acc: 0.6703 - f1_m: 0.6514 - precision_m: 0.7038 - recall_m: 0.6065\n",
            "Epoch 80/100\n",
            "109242/109242 [==============================] - 4s 34us/step - loss: 0.8309 - acc: 0.6703 - f1_m: 0.6515 - precision_m: 0.7041 - recall_m: 0.6065\n",
            "Epoch 81/100\n",
            "109242/109242 [==============================] - 4s 33us/step - loss: 0.8307 - acc: 0.6704 - f1_m: 0.6516 - precision_m: 0.7041 - recall_m: 0.6067\n",
            "Epoch 82/100\n",
            "109242/109242 [==============================] - 4s 35us/step - loss: 0.8305 - acc: 0.6708 - f1_m: 0.6516 - precision_m: 0.7042 - recall_m: 0.6067\n",
            "Epoch 83/100\n",
            "109242/109242 [==============================] - 4s 33us/step - loss: 0.8304 - acc: 0.6704 - f1_m: 0.6518 - precision_m: 0.7044 - recall_m: 0.6068\n",
            "Epoch 84/100\n",
            "109242/109242 [==============================] - 4s 34us/step - loss: 0.8303 - acc: 0.6706 - f1_m: 0.6521 - precision_m: 0.7042 - recall_m: 0.6076\n",
            "Epoch 85/100\n",
            "109242/109242 [==============================] - 4s 33us/step - loss: 0.8301 - acc: 0.6706 - f1_m: 0.6520 - precision_m: 0.7043 - recall_m: 0.6072\n",
            "Epoch 86/100\n",
            "109242/109242 [==============================] - 4s 33us/step - loss: 0.8299 - acc: 0.6706 - f1_m: 0.6518 - precision_m: 0.7041 - recall_m: 0.6072\n",
            "Epoch 87/100\n",
            "109242/109242 [==============================] - 4s 33us/step - loss: 0.8298 - acc: 0.6707 - f1_m: 0.6521 - precision_m: 0.7043 - recall_m: 0.6075\n",
            "Epoch 88/100\n",
            "109242/109242 [==============================] - 4s 33us/step - loss: 0.8296 - acc: 0.6710 - f1_m: 0.6521 - precision_m: 0.7045 - recall_m: 0.6073\n",
            "Epoch 89/100\n",
            "109242/109242 [==============================] - 4s 33us/step - loss: 0.8294 - acc: 0.6712 - f1_m: 0.6523 - precision_m: 0.7045 - recall_m: 0.6076\n",
            "Epoch 90/100\n",
            "109242/109242 [==============================] - 4s 33us/step - loss: 0.8293 - acc: 0.6711 - f1_m: 0.6523 - precision_m: 0.7046 - recall_m: 0.6075\n",
            "Epoch 91/100\n",
            "109242/109242 [==============================] - 4s 33us/step - loss: 0.8292 - acc: 0.6711 - f1_m: 0.6524 - precision_m: 0.7045 - recall_m: 0.6078\n",
            "Epoch 92/100\n",
            "109242/109242 [==============================] - 4s 33us/step - loss: 0.8290 - acc: 0.6711 - f1_m: 0.6524 - precision_m: 0.7042 - recall_m: 0.6081\n",
            "Epoch 93/100\n",
            "109242/109242 [==============================] - 4s 33us/step - loss: 0.8288 - acc: 0.6710 - f1_m: 0.6523 - precision_m: 0.7046 - recall_m: 0.6076\n",
            "Epoch 94/100\n",
            "109242/109242 [==============================] - 4s 33us/step - loss: 0.8287 - acc: 0.6713 - f1_m: 0.6526 - precision_m: 0.7046 - recall_m: 0.6082\n",
            "Epoch 95/100\n",
            "109242/109242 [==============================] - 4s 34us/step - loss: 0.8286 - acc: 0.6714 - f1_m: 0.6528 - precision_m: 0.7048 - recall_m: 0.6082\n",
            "Epoch 96/100\n",
            "109242/109242 [==============================] - 4s 33us/step - loss: 0.8284 - acc: 0.6712 - f1_m: 0.6527 - precision_m: 0.7047 - recall_m: 0.6081\n",
            "Epoch 97/100\n",
            "109242/109242 [==============================] - 4s 33us/step - loss: 0.8283 - acc: 0.6713 - f1_m: 0.6529 - precision_m: 0.7051 - recall_m: 0.6083\n",
            "Epoch 98/100\n",
            "109242/109242 [==============================] - 4s 34us/step - loss: 0.8282 - acc: 0.6714 - f1_m: 0.6527 - precision_m: 0.7046 - recall_m: 0.6083\n",
            "Epoch 99/100\n",
            "109242/109242 [==============================] - 4s 34us/step - loss: 0.8280 - acc: 0.6715 - f1_m: 0.6527 - precision_m: 0.7046 - recall_m: 0.6083\n",
            "Epoch 100/100\n",
            "109242/109242 [==============================] - 4s 34us/step - loss: 0.8278 - acc: 0.6716 - f1_m: 0.6530 - precision_m: 0.7048 - recall_m: 0.6087\n",
            "46818/46818 [==============================] - 2s 51us/step\n",
            "\n",
            "Test accuracy : 63.39%\n",
            "\n",
            "f1 : 61.47%\n",
            "\n",
            "precision : 66.58%\n",
            "\n",
            "recall : 57.23%\n"
          ],
          "name": "stdout"
        }
      ]
    },
    {
      "cell_type": "code",
      "metadata": {
        "id": "1ScvJ-HMqgeE",
        "colab_type": "code",
        "colab": {
          "base_uri": "https://localhost:8080/",
          "height": 295
        },
        "outputId": "e87a440a-4a0b-4240-870e-6f49471c61d2"
      },
      "source": [
        "# Plotting the graphs\n",
        "import matplotlib.pyplot as plt\n",
        "plt.plot(history_train.history['acc'], color = 'green', label = 'acc')\n",
        "plt.plot(history_train.history['val_acc'], color = 'red',label = 'train val_acc')\n",
        "plt.title('Train model accuracy')\n",
        "plt.ylabel('accuracy')\n",
        "plt.xlabel('epoch')\n",
        "plt.legend()\n",
        "plt.show()"
      ],
      "execution_count": 20,
      "outputs": [
        {
          "output_type": "display_data",
          "data": {
            "image/png": "[encoded data removed]",
            "text/plain": [
              "<Figure size 432x288 with 1 Axes>"
            ]
          },
          "metadata": {
            "tags": []
          }
        }
      ]
    },
    {
      "cell_type": "code",
      "metadata": {
        "id": "c2KsI-YgMMeY",
        "colab_type": "code",
        "colab": {
          "base_uri": "https://localhost:8080/",
          "height": 295
        },
        "outputId": "81db63e0-b20e-4ce9-fd65-060496969d7d"
      },
      "source": [
        "plt.plot(history_train.history['loss'], color = 'blue', label = 'loss')\n",
        "plt.plot(history_train.history['val_loss'], color = 'orange',label = 'val_loss')\n",
        "plt.title('Loss in training')\n",
        "plt.ylabel('Loss')\n",
        "plt.xlabel('epoch')\n",
        "plt.legend()\n",
        "plt.show()"
      ],
      "execution_count": 21,
      "outputs": [
        {
          "output_type": "display_data",
          "data": {
            "image/png": "[encoded data removed]",
            "text/plain": [
              "<Figure size 432x288 with 1 Axes>"
            ]
          },
          "metadata": {
            "tags": []
          }
        }
      ]
    }
  ]
}